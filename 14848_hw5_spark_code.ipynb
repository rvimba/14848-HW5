{
 "cells": [
  {
   "cell_type": "code",
   "execution_count": 1,
   "id": "eb315a92",
   "metadata": {},
   "outputs": [
    {
     "name": "stderr",
     "output_type": "stream",
     "text": [
      "21/12/01 06:37:10 WARN NativeCodeLoader: Unable to load native-hadoop library for your platform... using builtin-java classes where applicable\n",
      "Using Spark's default log4j profile: org/apache/spark/log4j-defaults.properties\n",
      "Setting default log level to \"WARN\".\n",
      "To adjust logging level use sc.setLogLevel(newLevel). For SparkR, use setLogLevel(newLevel).\n"
     ]
    }
   ],
   "source": [
    "from pyspark.context import SparkContext\n",
    "from pyspark.sql.session import SparkSession\n",
    "from pyspark.sql.functions import *\n",
    "sc = SparkContext.getOrCreate()\n",
    "spark = SparkSession(sc)"
   ]
  },
  {
   "cell_type": "code",
   "execution_count": 2,
   "id": "dc035484",
   "metadata": {},
   "outputs": [],
   "source": [
    "import os\n",
    "\n",
    "def getFolderFilePaths(checkLocation, pathToLocation = ''):\n",
    "    paths = list()\n",
    "    checkPath = os.path.join(pathToLocation, checkLocation)\n",
    "    if os.path.isfile(checkPath):\n",
    "        if (checkLocation.find('.') == 0):\n",
    "            return paths\n",
    "        paths.append(checkPath)\n",
    "        return paths\n",
    "    else:\n",
    "        for innerFile in os.listdir(checkPath):\n",
    "            innerPaths = getFolderFilePaths(innerFile, checkPath)\n",
    "            paths.extend(innerPaths)\n",
    "    return paths\n",
    "    "
   ]
  },
  {
   "cell_type": "code",
   "execution_count": 3,
   "id": "693398f3",
   "metadata": {},
   "outputs": [],
   "source": [
    "def getFilePathsFromFolders(folders):\n",
    "    all_paths = []\n",
    "    for folder in folders:\n",
    "        folder_paths = getFolderFilePaths(folder)\n",
    "        all_paths.extend(folder_paths)\n",
    "    return all_paths"
   ]
  },
  {
   "cell_type": "code",
   "execution_count": null,
   "id": "54bdfc58",
   "metadata": {},
   "outputs": [
    {
     "name": "stderr",
     "output_type": "stream",
     "text": [
      "[Stage 774:=======================================>               (67 + 4) / 94]\r"
     ]
    }
   ],
   "source": [
    "from operator import add\n",
    "\n",
    "def lower_clean_str(x):\n",
    "    alpha='ABCDEFGHIJKLMNOPQRSTUVWXYZ'\n",
    "    lowercased_str = x.upper()\n",
    "    for ch in x:\n",
    "        if ch not in alpha:\n",
    "            lowercased_str = lowercased_str.replace(ch, '')\n",
    "    return lowercased_str\n",
    "    \n",
    "\n",
    "def createInvertedIndex():\n",
    "    stop_list = {'they', 'she', 'he', 'it', 'the', 'as', 'is', 'and', ''}\n",
    "    folders = ['shakespeare', 'Hugo', 'Tolstoy']\n",
    "    paths = getFilePathsFromFolders(folders)\n",
    "    wordCountTotal = None\n",
    "    for file_path in paths:\n",
    "        \n",
    "        # read data from text file and split each line into words\n",
    "        words = sc.textFile(file_path).flatMap(lambda line: line.split(\" \"))\n",
    "        # count the occurrence of each word\n",
    "        words = words.map(lower_clean_str)\n",
    "        words = words.filter(lambda word: word not in stop_list)\n",
    "        wordCounts = words.map(lambda word: (word, file_path))\n",
    "        wordCounts = wordCounts.map(lambda wp: ((wp[0], wp[1]), 1)).reduceByKey(add)\n",
    "        wordcount_paths = wordCounts.map(lambda w: (w[0][0], [(w[0][1], w[1])]))\n",
    "        if wordCountTotal == None:\n",
    "            wordCountTotal = wordcount_paths\n",
    "        else:\n",
    "            wordCountTotal = wordCountTotal.union(wordcount_paths).reduceByKey(lambda x,y: x+y)\n",
    "    \n",
    "    wordCountTotal.saveAsTextFile(\"/notebooks/14848_hw5_spark/results\")\n",
    "\n",
    "    \n",
    "createInvertedIndex()"
   ]
  },
  {
   "cell_type": "code",
   "execution_count": null,
   "id": "448ef5ab",
   "metadata": {},
   "outputs": [],
   "source": []
  }
 ],
 "metadata": {
  "kernelspec": {
   "display_name": "Python 3 (ipykernel)",
   "language": "python",
   "name": "python3"
  },
  "language_info": {
   "codemirror_mode": {
    "name": "ipython",
    "version": 3
   },
   "file_extension": ".py",
   "mimetype": "text/x-python",
   "name": "python",
   "nbconvert_exporter": "python",
   "pygments_lexer": "ipython3",
   "version": "3.9.7"
  }
 },
 "nbformat": 4,
 "nbformat_minor": 5
}
